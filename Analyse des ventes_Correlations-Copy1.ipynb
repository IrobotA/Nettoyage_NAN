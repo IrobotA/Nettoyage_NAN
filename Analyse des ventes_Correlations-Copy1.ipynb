{
 "cells": [
  {
   "cell_type": "markdown",
   "metadata": {},
   "source": [
    "# Analyser les ventes d'un site de e-commerce spécialisé dans les livres"
   ]
  },
  {
   "cell_type": "markdown",
   "metadata": {},
   "source": [
    "L'entreprise pour qui vous travaillez souhaite analyser les ventes de son site et mieux connaitre ses clients, ainsi que le détail des ventes de ses produits"
   ]
  },
  {
   "cell_type": "markdown",
   "metadata": {},
   "source": [
    "Vous pourrez télécharger l'ensemble des données [via ce lien](https://s3-eu-west-1.amazonaws.com/static.oc-static.com/prod/courses/files/parcours-data-analyst/dataset_P4.zip)  Les données que vous avez à disposition :   \n",
    "* les ventes (appelées “Transactions”)  \n",
    "* la liste des clients  \n",
    "* la liste des produits."
   ]
  },
  {
   "cell_type": "markdown",
   "metadata": {},
   "source": [
    "## Corrélations des données"
   ]
  },
  {
   "cell_type": "markdown",
   "metadata": {},
   "source": [
    "Vous allez réalisé l’analyse des données. Une grande liberté vous est laissée sur ce plan, mais gardez en tête la mission gloable : nous souhaitons comprendre les ventes.\n",
    "\n",
    "Vous devrez y utiliser au moins :\n",
    "\n",
    "* Y a-t-il une corrélation entre le sexe des clients et les catégories de produits achetés ?\n",
    "* Y a-t-il une corrélation entre l'âge des clients et :  \n",
    "    Le montant total des achats ;  \n",
    "    La fréquence d’achat (ie. nombre d'achats par mois par exemple) ;  \n",
    "    La taille du panier moyen (en nombre d’articles) ;  \n",
    "    Les catégories de produits achetés.  "
   ]
  },
  {
   "cell_type": "markdown",
   "metadata": {},
   "source": [
    "Il existe 3 corrélations possibles : \n",
    "* corrélation entre deux variables quantitatives : matrice de corrélation et heatmap sont souvent utilisés  \n",
    "* corrélation entre une variable qualitative et une variable quantitative : [ANOVA](https://openclassrooms.com/fr/courses/4525266-decrivez-et-nettoyez-votre-jeu-de-donnees/4774896-analysez-une-variable-quantitative-et-une-qualitative-par-anova)  \n",
    "* corrélation entre deux variables qualitatives : [Chi-2](https://openclassrooms.com/fr/courses/4525266-decrivez-et-nettoyez-votre-jeu-de-donnees/4775616-analysez-deux-variables-qualitatives-avec-le-chi-2)"
   ]
  },
  {
   "cell_type": "code",
   "execution_count": 34,
   "metadata": {},
   "outputs": [],
   "source": [
    "import pandas as pd \n",
    "import numpy as np \n",
    "import seaborn as sns\n",
    "import matplotlib.pyplot as plt"
   ]
  },
  {
   "cell_type": "code",
   "execution_count": 17,
   "metadata": {},
   "outputs": [],
   "source": [
    "df_cln = pd.read_csv('cus_tra5.csv')"
   ]
  },
  {
   "cell_type": "code",
   "execution_count": 28,
   "metadata": {
    "collapsed": true
   },
   "outputs": [
    {
     "data": {
      "text/plain": [
       "0         2021-04-10\n",
       "1         2022-02-03\n",
       "2         2021-09-23\n",
       "3         2021-10-17\n",
       "4         2021-07-17\n",
       "             ...    \n",
       "313646    2021-07-22\n",
       "313647    2022-02-03\n",
       "313648    2021-06-19\n",
       "313649    2021-03-16\n",
       "313650    2021-10-30\n",
       "Name: date, Length: 313651, dtype: object"
      ]
     },
     "execution_count": 28,
     "metadata": {},
     "output_type": "execute_result"
    }
   ],
   "source": [
    "df_cln['date']"
   ]
  },
  {
   "cell_type": "code",
   "execution_count": 29,
   "metadata": {},
   "outputs": [],
   "source": [
    "df_cln[\"date_n\"] = pd.to_datetime(df_cln[\"date\"])"
   ]
  },
  {
   "cell_type": "code",
   "execution_count": 33,
   "metadata": {
    "collapsed": true
   },
   "outputs": [
    {
     "data": {
      "text/plain": [
       "0        2021-04-10\n",
       "1        2022-02-03\n",
       "2        2021-09-23\n",
       "3        2021-10-17\n",
       "4        2021-07-17\n",
       "            ...    \n",
       "313646   2021-07-22\n",
       "313647   2022-02-03\n",
       "313648   2021-06-19\n",
       "313649   2021-03-16\n",
       "313650   2021-10-30\n",
       "Name: date_n, Length: 313651, dtype: datetime64[ns]"
      ]
     },
     "execution_count": 33,
     "metadata": {},
     "output_type": "execute_result"
    }
   ],
   "source": [
    "df_cln[\"date_n\"] "
   ]
  },
  {
   "cell_type": "code",
   "execution_count": null,
   "metadata": {},
   "outputs": [
    {
     "data": {
      "text/plain": [
       "<seaborn.axisgrid.PairGrid at 0x19724f30e88>"
      ]
     },
     "execution_count": 36,
     "metadata": {},
     "output_type": "execute_result"
    }
   ],
   "source": [
    "sns.pairplot(df_cln, corner=True)"
   ]
  },
  {
   "cell_type": "markdown",
   "metadata": {},
   "source": [
    "# Fréquence d'achat\n",
    "\n",
    "quantité d'achat sur un temps donné \n",
    "\n",
    "\n",
    "par mois \n",
    "par an"
   ]
  },
  {
   "cell_type": "code",
   "execution_count": 19,
   "metadata": {},
   "outputs": [],
   "source": [
    "sum_client = df_cln.groupby(['client_id'], sort=True).sum()\n",
    "# on regroupe les id"
   ]
  },
  {
   "cell_type": "code",
   "execution_count": 22,
   "metadata": {},
   "outputs": [],
   "source": [
    "cum_sum = sum_client.sort_values(by=['price'], ascending=False)\n",
    "#organise moi les valeurs de façon décroissante"
   ]
  },
  {
   "cell_type": "code",
   "execution_count": 23,
   "metadata": {
    "collapsed": true
   },
   "outputs": [
    {
     "data": {
      "text/html": [
       "<div>\n",
       "<style scoped>\n",
       "    .dataframe tbody tr th:only-of-type {\n",
       "        vertical-align: middle;\n",
       "    }\n",
       "\n",
       "    .dataframe tbody tr th {\n",
       "        vertical-align: top;\n",
       "    }\n",
       "\n",
       "    .dataframe thead th {\n",
       "        text-align: right;\n",
       "    }\n",
       "</style>\n",
       "<table border=\"1\" class=\"dataframe\">\n",
       "  <thead>\n",
       "    <tr style=\"text-align: right;\">\n",
       "      <th></th>\n",
       "      <th>Unnamed: 0</th>\n",
       "      <th>price</th>\n",
       "      <th>categ</th>\n",
       "      <th>birth</th>\n",
       "    </tr>\n",
       "    <tr>\n",
       "      <th>client_id</th>\n",
       "      <th></th>\n",
       "      <th></th>\n",
       "      <th></th>\n",
       "      <th></th>\n",
       "    </tr>\n",
       "  </thead>\n",
       "  <tbody>\n",
       "    <tr>\n",
       "      <th>c_7959</th>\n",
       "      <td>33755782</td>\n",
       "      <td>2564.250000</td>\n",
       "      <td>38.0</td>\n",
       "      <td>384930</td>\n",
       "    </tr>\n",
       "    <tr>\n",
       "      <th>c_8026</th>\n",
       "      <td>31560859</td>\n",
       "      <td>2548.305716</td>\n",
       "      <td>40.0</td>\n",
       "      <td>381754</td>\n",
       "    </tr>\n",
       "    <tr>\n",
       "      <th>c_4491</th>\n",
       "      <td>28497214</td>\n",
       "      <td>2540.530000</td>\n",
       "      <td>53.0</td>\n",
       "      <td>333312</td>\n",
       "    </tr>\n",
       "    <tr>\n",
       "      <th>c_2140</th>\n",
       "      <td>34218249</td>\n",
       "      <td>2527.010000</td>\n",
       "      <td>43.0</td>\n",
       "      <td>385515</td>\n",
       "    </tr>\n",
       "    <tr>\n",
       "      <th>c_8392</th>\n",
       "      <td>31924214</td>\n",
       "      <td>2515.980000</td>\n",
       "      <td>41.0</td>\n",
       "      <td>373842</td>\n",
       "    </tr>\n",
       "    <tr>\n",
       "      <th>...</th>\n",
       "      <td>...</td>\n",
       "      <td>...</td>\n",
       "      <td>...</td>\n",
       "      <td>...</td>\n",
       "    </tr>\n",
       "    <tr>\n",
       "      <th>c_8351</th>\n",
       "      <td>117762</td>\n",
       "      <td>6.310000</td>\n",
       "      <td>0.0</td>\n",
       "      <td>1968</td>\n",
       "    </tr>\n",
       "    <tr>\n",
       "      <th>c_890</th>\n",
       "      <td>128896</td>\n",
       "      <td>6.080000</td>\n",
       "      <td>0.0</td>\n",
       "      <td>2002</td>\n",
       "    </tr>\n",
       "    <tr>\n",
       "      <th>c_1675</th>\n",
       "      <td>158440</td>\n",
       "      <td>5.570000</td>\n",
       "      <td>0.0</td>\n",
       "      <td>2000</td>\n",
       "    </tr>\n",
       "    <tr>\n",
       "      <th>c_8114</th>\n",
       "      <td>83389</td>\n",
       "      <td>4.990000</td>\n",
       "      <td>0.0</td>\n",
       "      <td>1962</td>\n",
       "    </tr>\n",
       "    <tr>\n",
       "      <th>c_8140</th>\n",
       "      <td>232910</td>\n",
       "      <td>4.150000</td>\n",
       "      <td>0.0</td>\n",
       "      <td>1971</td>\n",
       "    </tr>\n",
       "  </tbody>\n",
       "</table>\n",
       "<p>8596 rows × 4 columns</p>\n",
       "</div>"
      ],
      "text/plain": [
       "           Unnamed: 0        price  categ   birth\n",
       "client_id                                        \n",
       "c_7959       33755782  2564.250000   38.0  384930\n",
       "c_8026       31560859  2548.305716   40.0  381754\n",
       "c_4491       28497214  2540.530000   53.0  333312\n",
       "c_2140       34218249  2527.010000   43.0  385515\n",
       "c_8392       31924214  2515.980000   41.0  373842\n",
       "...               ...          ...    ...     ...\n",
       "c_8351         117762     6.310000    0.0    1968\n",
       "c_890          128896     6.080000    0.0    2002\n",
       "c_1675         158440     5.570000    0.0    2000\n",
       "c_8114          83389     4.990000    0.0    1962\n",
       "c_8140         232910     4.150000    0.0    1971\n",
       "\n",
       "[8596 rows x 4 columns]"
      ]
     },
     "execution_count": 23,
     "metadata": {},
     "output_type": "execute_result"
    }
   ],
   "source": [
    "cum_sum"
   ]
  },
  {
   "cell_type": "code",
   "execution_count": null,
   "metadata": {},
   "outputs": [],
   "source": [
    "librairie['year_month'] = librairie['date'].dt.strftime('%Y/%m')"
   ]
  },
  {
   "cell_type": "code",
   "execution_count": null,
   "metadata": {},
   "outputs": [],
   "source": []
  }
 ],
 "metadata": {
  "kernelspec": {
   "display_name": "Python 3",
   "language": "python",
   "name": "python3"
  },
  "language_info": {
   "codemirror_mode": {
    "name": "ipython",
    "version": 3
   },
   "file_extension": ".py",
   "mimetype": "text/x-python",
   "name": "python",
   "nbconvert_exporter": "python",
   "pygments_lexer": "ipython3",
   "version": "3.7.6"
  }
 },
 "nbformat": 4,
 "nbformat_minor": 4
}
